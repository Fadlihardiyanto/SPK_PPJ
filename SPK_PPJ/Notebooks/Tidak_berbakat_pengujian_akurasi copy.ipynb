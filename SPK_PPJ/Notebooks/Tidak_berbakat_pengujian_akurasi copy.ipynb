{
 "cells": [
  {
   "cell_type": "code",
   "execution_count": 1,
   "metadata": {},
   "outputs": [
    {
     "name": "stdout",
     "output_type": "stream",
     "text": [
      "Accuracy: 69.16%\n",
      "Precision: 69.09%\n",
      "Recall: 69.16%\n",
      "F1-score: 69.04%\n"
     ]
    }
   ],
   "source": [
    "import pandas as pd\n",
    "import numpy as np\n",
    "from sklearn.preprocessing import LabelEncoder, StandardScaler\n",
    "from sklearn.neighbors import KNeighborsClassifier\n",
    "from sklearn.metrics import accuracy_score\n",
    "\n",
    "# Load the dataset\n",
    "nilai_df = pd.read_csv('Data_Training_Data_Seimbang_FIX.csv', decimal=',', skiprows=[0])\n",
    "\n",
    "# Split features and target variable\n",
    "X = np.array(nilai_df.iloc[:, 1:-1])  # Exclude the 'nim' column\n",
    "y = np.array(nilai_df.iloc[:, -1])\n",
    "\n",
    "# Flatten the target variable\n",
    "y = y.flatten()\n",
    "\n",
    "# Perform label encoding on the target variable\n",
    "le = LabelEncoder()\n",
    "y = le.fit_transform(y)\n",
    "\n",
    "# Initialize the StandardScaler object\n",
    "scaler = StandardScaler()\n",
    "\n",
    "# Fit and transform the data\n",
    "X = scaler.fit_transform(X)\n",
    "\n",
    "# Initialize the KNN model with weighted distance\n",
    "K = 7\n",
    "model = KNeighborsClassifier(n_neighbors=K)\n",
    "\n",
    "# Fit the model on the entire data\n",
    "model.fit(X, y)\n",
    "\n",
    "# Predict labels using the trained model on the training data\n",
    "y_pred = model.predict(X)\n",
    "\n",
    "from sklearn.metrics import accuracy_score, precision_score, recall_score, f1_score\n",
    "\n",
    "accuracy = accuracy_score(y, y_pred)\n",
    "precision = precision_score(y, y_pred, average='weighted')\n",
    "recall = recall_score(y, y_pred, average='weighted')\n",
    "f1 = f1_score(y, y_pred, average='weighted')\n",
    "\n",
    "accuracy_percent = \"{:.2%}\".format(accuracy)\n",
    "precision_percent = \"{:.2%}\".format(precision)\n",
    "recall_percent = \"{:.2%}\".format(recall)\n",
    "f1_percent = \"{:.2%}\".format(f1)\n",
    "\n",
    "print(f'Accuracy: {accuracy_percent}')\n",
    "print(f'Precision: {precision_percent}')\n",
    "print(f'Recall: {recall_percent}')\n",
    "print(f'F1-score: {f1_percent}')"
   ]
  }
 ],
 "metadata": {
  "kernelspec": {
   "display_name": "Python 3",
   "language": "python",
   "name": "python3"
  },
  "language_info": {
   "codemirror_mode": {
    "name": "ipython",
    "version": 3
   },
   "file_extension": ".py",
   "mimetype": "text/x-python",
   "name": "python",
   "nbconvert_exporter": "python",
   "pygments_lexer": "ipython3",
   "version": "3.10.10"
  },
  "orig_nbformat": 4
 },
 "nbformat": 4,
 "nbformat_minor": 2
}
